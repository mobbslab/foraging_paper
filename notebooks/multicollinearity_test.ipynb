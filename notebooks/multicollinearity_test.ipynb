{
 "cells": [
  {
   "cell_type": "markdown",
   "metadata": {},
   "source": [
    "## Effects of multicollinearity on parameter estimation"
   ]
  },
  {
   "cell_type": "code",
   "execution_count": 1,
   "metadata": {},
   "outputs": [],
   "source": [
    "import numpy as np\n",
    "import matplotlib.pyplot as plt\n",
    "from scipy.spatial.distance import squareform\n",
    "import pandas as pd\n",
    "import statsmodels.formula.api as smf\n",
    "from tqdm import tqdm\n",
    "import seaborn as sns\n",
    "\n",
    "np.random.seed(123)\n",
    "\n",
    "def simulate_data(n=500, n_ivs=10, noise=2, high_correlations=True):\n",
    "\n",
    "    means = np.zeros(n_ivs)\n",
    "    stds = np.ones(n_ivs) / 3\n",
    "\n",
    "    cov_idx = np.tril_indices(n_ivs, k=-1)\n",
    "\n",
    "    n_cells = len(cov_idx[0])\n",
    "    corrs = np.random.random(n_cells)\n",
    "    corrs = 1 - (corrs * 2)\n",
    "    \n",
    "    if high_correlations:\n",
    "        # Encourage highly correlated variables\n",
    "        corrs[np.random.randint(0, n_cells, n_ivs)] = 0.7 + (np.random.random(n_ivs) * 0.2) \n",
    "        corrs[np.random.randint(0, n_cells, n_ivs*4)] = 1\n",
    "        \n",
    "    else:\n",
    "        corrs *= 0.2\n",
    "\n",
    "    covs = np.zeros((n_ivs, n_ivs))\n",
    "\n",
    "    for i in range(n_cells):\n",
    "        x, y = cov_idx[0][i], cov_idx[1][i]\n",
    "        covs[x, y] = stds[x] * stds[y] * corrs[i]\n",
    "        covs[y, x] = stds[x] * stds[y] * corrs[i]\n",
    "\n",
    "    np.fill_diagonal(covs, stds ** 2)\n",
    "\n",
    "    m = np.random.multivariate_normal(means, covs, n, check_valid='ignore').T\n",
    "\n",
    "    diff = np.abs(np.corrcoef(m) - squareform(corrs))\n",
    "    mean_diff = np.tril(diff, k=-1).mean()\n",
    "    \n",
    "    actual_corr = np.corrcoef(m)\n",
    "    max_corr = np.abs(actual_corr[np.tril_indices_from(actual_corr, k=-1)]).max()\n",
    "    mean_corr = np.abs(actual_corr[np.tril_indices_from(actual_corr, k=-1)]).mean()\n",
    "    betas = 1 - (np.random.random(n_ivs) * 2)[:, None]\n",
    "    y = (m * betas).sum(axis=0) + np.random.random(n) * noise\n",
    "\n",
    "    df = pd.DataFrame(np.vstack([m, y[None, :]]).T, columns=['x{0}'.format(i) for i in range(n_ivs)] + ['y'])\n",
    "    df.head()\n",
    "    \n",
    "    return df, betas, max_corr, mean_corr"
   ]
  },
  {
   "cell_type": "markdown",
   "metadata": {},
   "source": [
    "## Small dataset\n",
    "\n",
    "This generates a dataset with 10 predictors, 50 observations and observation noise of $norm(0, 5)$"
   ]
  },
  {
   "cell_type": "code",
   "execution_count": 2,
   "metadata": {},
   "outputs": [
    {
     "name": "stderr",
     "output_type": "stream",
     "text": [
      "100%|███████████████████████████████████████████████████████████████████████████████| 100/100 [00:04<00:00, 20.96it/s]\n",
      "100%|███████████████████████████████████████████████████████████████████████████████| 100/100 [00:02<00:00, 41.87it/s]\n"
     ]
    }
   ],
   "source": [
    "n_sims = 100\n",
    "\n",
    "out = []\n",
    "\n",
    "for i in tqdm(range(n_sims)):\n",
    "    # With randomness in the simulation we don't always get the correlation between variables that we want\n",
    "    # so we rerun until this is achieved \n",
    "    mean_corr = 0\n",
    "    while mean_corr < 0.45:\n",
    "        df, betas, max_corr, mean_corr = simulate_data(50, 10, noise=5)\n",
    "    mod = smf.ols(formula='y ~ ' + ' '.join(['+ {0}'.format(i) for i in df.columns if 'x' in i])[2:], data=df)\n",
    "    res = mod.fit()\n",
    "    out.append(np.corrcoef(betas[:, 0], res.params[1:])[0, 1])\n",
    "    \n",
    "out_low_corr = []\n",
    "\n",
    "for i in tqdm(range(n_sims)):\n",
    "    mean_corr = 0\n",
    "    while mean_corr < 0.1:\n",
    "        df, betas, max_corr, mean_corr = simulate_data(50, 10, noise=5)\n",
    "    mod = smf.ols(formula='y ~ ' + ' '.join(['+ {0}'.format(i) for i in df.columns if 'x' in i])[2:], data=df)\n",
    "    res = mod.fit()\n",
    "    out_low_corr.append(np.corrcoef(betas[:, 0], res.params[1:])[0, 1])"
   ]
  },
  {
   "cell_type": "markdown",
   "metadata": {},
   "source": [
    "Comparing the value of the recovered beta weights to those used to generate the data, parameters are slightly underestimated when predictors are highly correlated."
   ]
  },
  {
   "cell_type": "code",
   "execution_count": 3,
   "metadata": {},
   "outputs": [
    {
     "data": {
      "text/plain": [
       "Text(0.5, 0, 'Correlation between true and recovered betas')"
      ]
     },
     "execution_count": 3,
     "metadata": {},
     "output_type": "execute_result"
    },
    {
     "data": {
      "image/png": "[encoded data removed]",
      "text/plain": [
       "<Figure size 432x288 with 1 Axes>"
      ]
     },
     "metadata": {
      "needs_background": "light"
     },
     "output_type": "display_data"
    }
   ],
   "source": [
    "plt.hist(out, label='High correlation', alpha=0.5)\n",
    "plt.hist(out_low_corr, label='Low correlation', alpha=0.5)\n",
    "plt.axvline(np.median(out), color='tab:blue')\n",
    "plt.axvline(np.median(out_low_corr), color='tab:orange')\n",
    "plt.legend()\n",
    "plt.xlabel('Correlation between true and recovered betas')"
   ]
  },
  {
   "cell_type": "markdown",
   "metadata": {},
   "source": [
    "## Medium dataset\n",
    "\n",
    "With 2000 observations"
   ]
  },
  {
   "cell_type": "code",
   "execution_count": 4,
   "metadata": {},
   "outputs": [
    {
     "name": "stderr",
     "output_type": "stream",
     "text": [
      "100%|███████████████████████████████████████████████████████████████████████████████| 100/100 [00:12<00:00,  7.70it/s]\n",
      "100%|███████████████████████████████████████████████████████████████████████████████| 100/100 [00:03<00:00, 29.19it/s]\n"
     ]
    }
   ],
   "source": [
    "n_sims = 100\n",
    "\n",
    "out = []\n",
    "\n",
    "for i in tqdm(range(n_sims)):\n",
    "    mean_corr = 0\n",
    "    while mean_corr < 0.45:\n",
    "        df, betas, max_corr, mean_corr = simulate_data(2000, 10, noise=5)\n",
    "    mod = smf.ols(formula='y ~ ' + ' '.join(['+ {0}'.format(i) for i in df.columns if 'x' in i])[2:], data=df)\n",
    "    res = mod.fit()\n",
    "    out.append(np.corrcoef(betas[:, 0], res.params[1:])[0, 1])\n",
    "    \n",
    "out_low_corr = []\n",
    "\n",
    "for i in tqdm(range(n_sims)):\n",
    "    mean_corr = 0\n",
    "    while mean_corr < 0.1:\n",
    "        df, betas, max_corr, mean_corr = simulate_data(2000, 10, noise=5)\n",
    "    mod = smf.ols(formula='y ~ ' + ' '.join(['+ {0}'.format(i) for i in df.columns if 'x' in i])[2:], data=df)\n",
    "    res = mod.fit()\n",
    "    out_low_corr.append(np.corrcoef(betas[:, 0], res.params[1:])[0, 1])"
   ]
  },
  {
   "cell_type": "code",
   "execution_count": 5,
   "metadata": {},
   "outputs": [
    {
     "data": {
      "text/plain": [
       "Text(0.5, 0, 'Correlation between true and recovered betas')"
      ]
     },
     "execution_count": 5,
     "metadata": {},
     "output_type": "execute_result"
    },
    {
     "data": {
      "image/png": "[encoded data removed]",
      "text/plain": [
       "<Figure size 432x288 with 1 Axes>"
      ]
     },
     "metadata": {
      "needs_background": "light"
     },
     "output_type": "display_data"
    }
   ],
   "source": [
    "plt.hist(out, label='High correlation', alpha=0.5)\n",
    "plt.hist(out_low_corr, label='Low correlation', alpha=0.5)\n",
    "plt.axvline(np.median(out), color='tab:blue')\n",
    "plt.axvline(np.median(out_low_corr), color='tab:orange')\n",
    "plt.legend()\n",
    "plt.xlabel('Correlation between true and recovered betas')"
   ]
  },
  {
   "cell_type": "markdown",
   "metadata": {},
   "source": [
    "## Large dataset\n",
    "\n",
    "Comprising 20k observations. In the RSA analyses, because we are looking for relationships between similarity matrices across almost 600 trials, we have a little over 80k observations in each GLM. This simulation therefore represents the most similar case to our analyses."
   ]
  },
  {
   "cell_type": "code",
   "execution_count": 6,
   "metadata": {},
   "outputs": [
    {
     "name": "stderr",
     "output_type": "stream",
     "text": [
      "100%|███████████████████████████████████████████████████████████████████████████████| 100/100 [01:42<00:00,  1.03s/it]\n",
      "100%|███████████████████████████████████████████████████████████████████████████████| 100/100 [00:09<00:00, 10.61it/s]\n"
     ]
    }
   ],
   "source": [
    "n_sims = 100\n",
    "\n",
    "out = []\n",
    "\n",
    "for i in tqdm(range(n_sims)):\n",
    "    mean_corr = 0\n",
    "    while mean_corr < 0.45:\n",
    "        df, betas, max_corr, mean_corr = simulate_data(20000, 10, noise=5)\n",
    "    mod = smf.ols(formula='y ~ ' + ' '.join(['+ {0}'.format(i) for i in df.columns if 'x' in i])[2:], data=df)\n",
    "    res = mod.fit()\n",
    "    out.append(np.corrcoef(betas[:, 0], res.params[1:])[0, 1])\n",
    "    \n",
    "out_low_corr = []\n",
    "\n",
    "for i in tqdm(range(n_sims)):\n",
    "    mean_corr = 0\n",
    "    while mean_corr < 0.1:\n",
    "        df, betas, max_corr, mean_corr = simulate_data(20000, 10, noise=5)\n",
    "    mod = smf.ols(formula='y ~ ' + ' '.join(['+ {0}'.format(i) for i in df.columns if 'x' in i])[2:], data=df)\n",
    "    res = mod.fit()\n",
    "    out_low_corr.append(np.corrcoef(betas[:, 0], res.params[1:])[0, 1])"
   ]
  },
  {
   "cell_type": "code",
   "execution_count": 7,
   "metadata": {},
   "outputs": [
    {
     "data": {
      "text/plain": [
       "Text(0.5, 0, 'Correlation between true and recovered betas')"
      ]
     },
     "execution_count": 7,
     "metadata": {},
     "output_type": "execute_result"
    },
    {
     "data": {
      "image/png": "[encoded data removed]",
      "text/plain": [
       "<Figure size 432x288 with 1 Axes>"
      ]
     },
     "metadata": {
      "needs_background": "light"
     },
     "output_type": "display_data"
    }
   ],
   "source": [
    "plt.hist(out, label='High correlation', alpha=0.5)\n",
    "plt.hist(out_low_corr, label='Low correlation', alpha=0.5)\n",
    "plt.axvline(np.median(out), color='tab:blue')\n",
    "plt.axvline(np.median(out_low_corr), color='tab:orange')\n",
    "plt.legend()\n",
    "plt.xlabel('Correlation between true and recovered betas')"
   ]
  },
  {
   "cell_type": "code",
   "execution_count": 8,
   "metadata": {},
   "outputs": [
    {
     "data": {
      "text/plain": [
       "0.9913132259300814"
      ]
     },
     "execution_count": 8,
     "metadata": {},
     "output_type": "execute_result"
    }
   ],
   "source": [
    "np.median(out)"
   ]
  },
  {
   "cell_type": "code",
   "execution_count": 9,
   "metadata": {},
   "outputs": [
    {
     "data": {
      "text/plain": [
       "0.9969166384348507"
      ]
     },
     "execution_count": 9,
     "metadata": {},
     "output_type": "execute_result"
    }
   ],
   "source": [
    "np.median(out_low_corr)"
   ]
  }
 ],
 "metadata": {
  "kernelspec": {
   "display_name": "mne",
   "language": "python",
   "name": "mne"
  },
  "language_info": {
   "codemirror_mode": {
    "name": "ipython",
    "version": 3
   },
   "file_extension": ".py",
   "mimetype": "text/x-python",
   "name": "python",
   "nbconvert_exporter": "python",
   "pygments_lexer": "ipython3",
   "version": "3.8.2"
  }
 },
 "nbformat": 4,
 "nbformat_minor": 4
}
