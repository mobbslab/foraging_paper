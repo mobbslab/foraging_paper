{
 "cells": [
  {
   "cell_type": "markdown",
   "metadata": {},
   "source": [
    "# Behavioural modelling"
   ]
  },
  {
   "cell_type": "code",
   "execution_count": 1,
   "metadata": {},
   "outputs": [],
   "source": [
    "import pandas as pd\n",
    "import numpy as np\n",
    "import matplotlib.pyplot as plt\n",
    "import seaborn as sns\n",
    "from scipy.stats import zscore\n",
    "import theano\n",
    "import theano.tensor as T\n",
    "import pymc3 as pm\n",
    "import arviz as az"
   ]
  },
  {
   "cell_type": "markdown",
   "metadata": {},
   "source": [
    "## Get decision data \n",
    "\n",
    "This includes behavior taken from raw behavioral output files"
   ]
  },
  {
   "cell_type": "code",
   "execution_count": 2,
   "metadata": {},
   "outputs": [],
   "source": [
    "decision_df = pd.read_csv('../data/decision_df.csv')\n",
    "decision_df['left_or_right'] = decision_df['current_patch'] == 'right'\n",
    "decision_df = decision_df.rename(columns={'current_patch_competitors': 'comps_current_in_patch', 'points_gained': 'points_collected'})\n",
    "data = decision_df\n"
   ]
  },
  {
   "cell_type": "markdown",
   "metadata": {},
   "source": [
    "### Get some other information"
   ]
  },
  {
   "cell_type": "code",
   "execution_count": 3,
   "metadata": {},
   "outputs": [],
   "source": [
    "onset_id_df = pd.read_csv('../data/onset_id_trial_index_df_REVISED.csv')\n",
    "data = pd.merge(data, onset_id_df[['day', 'block', 'trial_index', 'subject', 'id']], on=['day', 'block', 'trial_index', 'subject'])"
   ]
  },
  {
   "cell_type": "code",
   "execution_count": 4,
   "metadata": {},
   "outputs": [
    {
     "data": {
      "text/html": [
       "<div>\n",
       "<style scoped>\n",
       "    .dataframe tbody tr th:only-of-type {\n",
       "        vertical-align: middle;\n",
       "    }\n",
       "\n",
       "    .dataframe tbody tr th {\n",
       "        vertical-align: top;\n",
       "    }\n",
       "\n",
       "    .dataframe thead th {\n",
       "        text-align: right;\n",
       "    }\n",
       "</style>\n",
       "<table border=\"1\" class=\"dataframe\">\n",
       "  <thead>\n",
       "    <tr style=\"text-align: right;\">\n",
       "      <th></th>\n",
       "      <th>subject</th>\n",
       "      <th>day</th>\n",
       "      <th>block</th>\n",
       "      <th>id</th>\n",
       "      <th>trial_index</th>\n",
       "      <th>threat</th>\n",
       "    </tr>\n",
       "  </thead>\n",
       "  <tbody>\n",
       "    <tr>\n",
       "      <th>0</th>\n",
       "      <td>for01</td>\n",
       "      <td>1</td>\n",
       "      <td>1</td>\n",
       "      <td>1</td>\n",
       "      <td>0</td>\n",
       "      <td>False</td>\n",
       "    </tr>\n",
       "    <tr>\n",
       "      <th>1</th>\n",
       "      <td>for01</td>\n",
       "      <td>1</td>\n",
       "      <td>1</td>\n",
       "      <td>5</td>\n",
       "      <td>1</td>\n",
       "      <td>False</td>\n",
       "    </tr>\n",
       "    <tr>\n",
       "      <th>2</th>\n",
       "      <td>for01</td>\n",
       "      <td>1</td>\n",
       "      <td>1</td>\n",
       "      <td>9</td>\n",
       "      <td>2</td>\n",
       "      <td>False</td>\n",
       "    </tr>\n",
       "    <tr>\n",
       "      <th>3</th>\n",
       "      <td>for01</td>\n",
       "      <td>1</td>\n",
       "      <td>1</td>\n",
       "      <td>13</td>\n",
       "      <td>3</td>\n",
       "      <td>False</td>\n",
       "    </tr>\n",
       "    <tr>\n",
       "      <th>4</th>\n",
       "      <td>for01</td>\n",
       "      <td>1</td>\n",
       "      <td>1</td>\n",
       "      <td>17</td>\n",
       "      <td>4</td>\n",
       "      <td>False</td>\n",
       "    </tr>\n",
       "    <tr>\n",
       "      <th>...</th>\n",
       "      <td>...</td>\n",
       "      <td>...</td>\n",
       "      <td>...</td>\n",
       "      <td>...</td>\n",
       "      <td>...</td>\n",
       "      <td>...</td>\n",
       "    </tr>\n",
       "    <tr>\n",
       "      <th>12091</th>\n",
       "      <td>for23</td>\n",
       "      <td>2</td>\n",
       "      <td>4</td>\n",
       "      <td>301</td>\n",
       "      <td>67</td>\n",
       "      <td>True</td>\n",
       "    </tr>\n",
       "    <tr>\n",
       "      <th>12092</th>\n",
       "      <td>for23</td>\n",
       "      <td>2</td>\n",
       "      <td>4</td>\n",
       "      <td>306</td>\n",
       "      <td>68</td>\n",
       "      <td>True</td>\n",
       "    </tr>\n",
       "    <tr>\n",
       "      <th>12093</th>\n",
       "      <td>for23</td>\n",
       "      <td>2</td>\n",
       "      <td>4</td>\n",
       "      <td>311</td>\n",
       "      <td>69</td>\n",
       "      <td>True</td>\n",
       "    </tr>\n",
       "    <tr>\n",
       "      <th>12094</th>\n",
       "      <td>for23</td>\n",
       "      <td>2</td>\n",
       "      <td>4</td>\n",
       "      <td>316</td>\n",
       "      <td>70</td>\n",
       "      <td>True</td>\n",
       "    </tr>\n",
       "    <tr>\n",
       "      <th>12095</th>\n",
       "      <td>for23</td>\n",
       "      <td>2</td>\n",
       "      <td>4</td>\n",
       "      <td>321</td>\n",
       "      <td>71</td>\n",
       "      <td>True</td>\n",
       "    </tr>\n",
       "  </tbody>\n",
       "</table>\n",
       "<p>12096 rows × 6 columns</p>\n",
       "</div>"
      ],
      "text/plain": [
       "      subject  day  block   id  trial_index  threat\n",
       "0       for01    1      1    1            0   False\n",
       "1       for01    1      1    5            1   False\n",
       "2       for01    1      1    9            2   False\n",
       "3       for01    1      1   13            3   False\n",
       "4       for01    1      1   17            4   False\n",
       "...       ...  ...    ...  ...          ...     ...\n",
       "12091   for23    2      4  301           67    True\n",
       "12092   for23    2      4  306           68    True\n",
       "12093   for23    2      4  311           69    True\n",
       "12094   for23    2      4  316           70    True\n",
       "12095   for23    2      4  321           71    True\n",
       "\n",
       "[12096 rows x 6 columns]"
      ]
     },
     "execution_count": 4,
     "metadata": {},
     "output_type": "execute_result"
    }
   ],
   "source": [
    "onset_id_df"
   ]
  },
  {
   "cell_type": "code",
   "execution_count": 5,
   "metadata": {},
   "outputs": [],
   "source": [
    "data = data[data['subject'] != 'for07'] # This subject is excluded from the imaging analyses due to insufficient data"
   ]
  },
  {
   "cell_type": "markdown",
   "metadata": {},
   "source": [
    "### Calculate points earned"
   ]
  },
  {
   "cell_type": "code",
   "execution_count": 6,
   "metadata": {},
   "outputs": [],
   "source": [
    "competition_points = data.groupby(['subject', 'threat', 'comps_current_in_patch']).mean()['points_collected'].reset_index()\\\n",
    "\n",
    "# Fill in missing conditions based on other subjects - only needed for for21\n",
    "for sub in competition_points['subject'].unique():\n",
    "    sub_points = competition_points[competition_points['subject'] == sub]\n",
    "    for threat in [False, True]:\n",
    "        for comps in range(1, 7):\n",
    "            if not comps in sub_points[sub_points['threat'] == threat]['comps_current_in_patch'].values:\n",
    "                new_row = pd.DataFrame({'subject': [sub], 'threat': [threat], 'comps_current_in_patch': [comps], \n",
    "                                        'points_collected': [competition_points.loc[(competition_points['threat'] == threat) & (competition_points['comps_current_in_patch'] == comps), 'points_collected'].mean()]})\n",
    "                competition_points = pd.concat([competition_points, new_row]).reset_index(drop=True)\n",
    "\n"
   ]
  },
  {
   "cell_type": "code",
   "execution_count": 7,
   "metadata": {},
   "outputs": [],
   "source": [
    "competition_points_left = competition_points.rename(columns={'points_collected': 'mean_points_left', 'comps_current_in_patch': 'left_conspecifics_number'}) \n",
    "competition_points_right = competition_points.rename(columns={'points_collected': 'mean_points_right', 'comps_current_in_patch': 'right_conspecifics_number'})\n",
    "data = pd.merge(data, competition_points_left, on=['subject', 'left_conspecifics_number', 'threat'])\n",
    "data = pd.merge(data, competition_points_right, on=['subject', 'right_conspecifics_number', 'threat'])"
   ]
  },
  {
   "cell_type": "markdown",
   "metadata": {},
   "source": [
    "### Plot number of points earned depending on threat & competitors"
   ]
  },
  {
   "cell_type": "code",
   "execution_count": 8,
   "metadata": {},
   "outputs": [
    {
     "data": {
      "text/plain": [
       "<seaborn.axisgrid.FacetGrid at 0x1c64ab78a60>"
      ]
     },
     "execution_count": 8,
     "metadata": {},
     "output_type": "execute_result"
    },
    {
     "data": {
      "image/png": "[encoded data removed]",
      "text/plain": [
       "<Figure size 421.25x360 with 1 Axes>"
      ]
     },
     "metadata": {
      "needs_background": "light"
     },
     "output_type": "display_data"
    }
   ],
   "source": [
    "sns.catplot('comps_current_in_patch', 'points_collected', hue='threat', data=competition_points, kind='point')"
   ]
  },
  {
   "cell_type": "code",
   "execution_count": 9,
   "metadata": {},
   "outputs": [],
   "source": [
    "for n, sub in enumerate(data['subject'].unique()):\n",
    "    data.loc[data['subject'] == sub, 'subject_idx'] = n\n",
    "\n",
    "data = data.sort_values(['subject_idx', 'day', 'block', 'trial_index']).reset_index(drop=True)\n"
   ]
  },
  {
   "cell_type": "markdown",
   "metadata": {},
   "source": [
    "## Modelling\n",
    "\n",
    "### Model without learning"
   ]
  },
  {
   "cell_type": "code",
   "execution_count": 10,
   "metadata": {},
   "outputs": [],
   "source": [
    "n_subs = len(data['subject'].unique())\n",
    "subject_idx = data['subject_idx'].astype(int)\n",
    "\n",
    "data['p_caught_left'] = .6 / (data['left_conspecifics_number'] + 1)\n",
    "data['p_caught_right'] = .6 / (data['right_conspecifics_number'] + 1)\n",
    "data.loc[data['threat'] == False, ['p_caught_left', 'p_caught_right']] = 0\n",
    "\n",
    "# Exclude trials where the later option was selected\n",
    "data['left_or_right_later_excluded'] = data['left_or_right']\n",
    "data.loc[data['now_or_later'], 'left_or_right_later_excluded'] = np.nan\n",
    "\n",
    "result_nan_mask = ~data['left_or_right_later_excluded'].isnull().values\n",
    "\n",
    "with pm.Model() as model:\n",
    "\n",
    "    group_competitor_threat_weight_mean = pm.Normal('group_competitor_threat_weight_mean', 0, 1)\n",
    "    group_competitor_threat_weight_sd = pm.HalfNormal('group_competitor_threat_weight_sd', 1)\n",
    "    competitor_threat_weight_offset = pm.Normal('competitor_threat_weight_offset', 0, 5, shape=n_subs)\n",
    "    competitor_threat_weight = pm.Deterministic('competitor_threat_weight', group_competitor_threat_weight_mean + group_competitor_threat_weight_sd * competitor_threat_weight_offset)\n",
    "\n",
    "    temperature = pm.Gamma('temperature', 3, 0.5, shape=n_subs)\n",
    "    \n",
    "    v_left = data['mean_points_left'].values * 0.1 + data['p_caught_left'].values * competitor_threat_weight[subject_idx]\n",
    "    v_right = data['mean_points_right'].values * 0.1 + data['p_caught_right'].values * competitor_threat_weight[subject_idx]\n",
    "    \n",
    "    v_left = pm.Deterministic('survival_value_left', v_left)\n",
    "    v_right = pm.Deterministic('survival_value_right', v_right)\n",
    "    \n",
    "    vs = T.stack(v_left, v_right)\n",
    "    ps = (T.exp(vs / temperature[subject_idx])) / T.sum(T.exp(vs / temperature[subject_idx]), axis=0)\n",
    "        \n",
    "    pR = pm.Deterministic('pR', ps[1, :])\n",
    "           \n",
    "    decision = pm.Bernoulli('likelihood', p=(pR[result_nan_mask]*.99) + 0.001, observed=data.loc[result_nan_mask, 'left_or_right_later_excluded'].astype(int))\n",
    "    prior_checks = pm.sample_prior_predictive(samples=50, random_seed=123)"
   ]
  },
  {
   "cell_type": "markdown",
   "metadata": {},
   "source": [
    "#### Fit model"
   ]
  },
  {
   "cell_type": "code",
   "execution_count": 11,
   "metadata": {},
   "outputs": [
    {
     "name": "stderr",
     "output_type": "stream",
     "text": [
      "Average Loss = 6,452: 100%|████████████████████████████████████████████████████| 30000/30000 [03:58<00:00, 125.86it/s]\n",
      "Finished [100%]: Average Loss = 6,452\n"
     ]
    }
   ],
   "source": [
    "with model:\n",
    "    mean_field = pm.fit(method='advi', n=30000)\n",
    "    \n",
    "trace = mean_field.sample(1000)"
   ]
  },
  {
   "cell_type": "markdown",
   "metadata": {},
   "source": [
    "### Model fit\n",
    "\n",
    "This uses WAIC on a log scale - higher = better"
   ]
  },
  {
   "cell_type": "code",
   "execution_count": 12,
   "metadata": {},
   "outputs": [
    {
     "name": "stderr",
     "output_type": "stream",
     "text": [
      "C:\\Users\\tobyw\\Miniconda3\\envs\\mne\\lib\\site-packages\\arviz\\data\\io_pymc3.py:87: FutureWarning: Using `from_pymc3` without the model will be deprecated in a future release. Not using the model will return less accurate and less useful results. Make sure you use the model argument or call from_pymc3 within a model context.\n",
      "  warnings.warn(\n",
      "C:\\Users\\tobyw\\Miniconda3\\envs\\mne\\lib\\site-packages\\arviz\\stats\\stats.py:1425: UserWarning: For one or more samples the posterior variance of the log predictive densities exceeds 0.4. This could be indication of WAIC starting to fail. \n",
      "See http://arxiv.org/abs/1507.04544 for details\n",
      "  warnings.warn(\n"
     ]
    },
    {
     "data": {
      "text/plain": [
       "Computed from 1000 by 11137 log-likelihood matrix\n",
       "\n",
       "          Estimate       SE\n",
       "elpd_waic -6181.56    53.94\n",
       "p_waic       78.70        -\n",
       "\n",
       "There has been a warning during the calculation. Please check the results."
      ]
     },
     "execution_count": 12,
     "metadata": {},
     "output_type": "execute_result"
    }
   ],
   "source": [
    "az.waic(trace)"
   ]
  },
  {
   "cell_type": "code",
   "execution_count": 13,
   "metadata": {},
   "outputs": [
    {
     "name": "stderr",
     "output_type": "stream",
     "text": [
      "100%|███████████████████████████████████████████████████████████████████████████| 1000/1000 [00:00<00:00, 1258.06it/s]\n"
     ]
    }
   ],
   "source": [
    "with model:\n",
    "    post = pm.sample_posterior_predictive(trace, var_names=['survival_value_left', 'survival_value_right'])"
   ]
  },
  {
   "cell_type": "code",
   "execution_count": 14,
   "metadata": {},
   "outputs": [],
   "source": [
    "data['survival_value_diff'] = post['survival_value_left'].mean(axis=0) - post['survival_value_right'].mean(axis=0)\n",
    "data['survival_value_left'] = post['survival_value_left'].mean(axis=0)\n",
    "data['survival_value_right'] = post['survival_value_right'].mean(axis=0)"
   ]
  },
  {
   "cell_type": "markdown",
   "metadata": {},
   "source": [
    "### Z-score within subject"
   ]
  },
  {
   "cell_type": "code",
   "execution_count": 15,
   "metadata": {},
   "outputs": [],
   "source": [
    "for sub in data['subject'].unique():\n",
    "    data.loc[data['subject'] == sub, 'survival_value_left_Z'] = zscore(data.loc[data['subject'] == sub, 'survival_value_left'])\n",
    "    data.loc[data['subject'] == sub, 'survival_value_right_Z'] = zscore(data.loc[data['subject'] == sub, 'survival_value_right'])\n",
    "    data.loc[data['subject'] == sub, 'survival_value_diff_Z'] = zscore(data.loc[data['subject'] == sub, 'survival_value_left'] - data.loc[data['subject'] == sub, 'survival_value_right'])"
   ]
  },
  {
   "cell_type": "markdown",
   "metadata": {},
   "source": [
    "### Check that choices are different for high/low SV"
   ]
  },
  {
   "cell_type": "code",
   "execution_count": 16,
   "metadata": {},
   "outputs": [
    {
     "name": "stderr",
     "output_type": "stream",
     "text": [
      "C:\\Users\\tobyw\\Miniconda3\\envs\\mne\\lib\\site-packages\\seaborn\\categorical.py:3666: UserWarning: The `factorplot` function has been renamed to `catplot`. The original name will be removed in a future release. Please update your code. Note that the default `kind` in `factorplot` (`'point'`) has changed `'strip'` in `catplot`.\n",
      "  warnings.warn(msg)\n"
     ]
    },
    {
     "data": {
      "text/plain": [
       "<seaborn.axisgrid.FacetGrid at 0x1c66271c2e0>"
      ]
     },
     "execution_count": 16,
     "metadata": {},
     "output_type": "execute_result"
    },
    {
     "data": {
      "image/png": "[encoded data removed]",
      "text/plain": [
       "<Figure size 360x360 with 1 Axes>"
      ]
     },
     "metadata": {
      "needs_background": "light"
     },
     "output_type": "display_data"
    }
   ],
   "source": [
    "sns.factorplot('left_or_right', 'survival_value_diff_Z', data=data[(data['subject_idx'] == 0) & (data['threat'] == 1)])"
   ]
  },
  {
   "cell_type": "code",
   "execution_count": 17,
   "metadata": {},
   "outputs": [
    {
     "data": {
      "text/plain": [
       "(array([9., 0., 3., 4., 2., 0., 0., 1., 0., 1.]),\n",
       " array([-167.72540402, -134.60759711, -101.48979019,  -68.37198328,\n",
       "         -35.25417637,   -2.13636945,   30.98143746,   64.09924438,\n",
       "          97.21705129,  130.33485821,  163.45266512]),\n",
       " <a list of 10 Patch objects>)"
      ]
     },
     "execution_count": 17,
     "metadata": {},
     "output_type": "execute_result"
    },
    {
     "data": {
      "image/png": "[encoded data removed]",
      "text/plain": [
       "<Figure size 432x288 with 1 Axes>"
      ]
     },
     "metadata": {
      "needs_background": "light"
     },
     "output_type": "display_data"
    }
   ],
   "source": [
    "plt.hist(trace['competitor_threat_weight'].mean(axis=0))"
   ]
  },
  {
   "cell_type": "code",
   "execution_count": 18,
   "metadata": {},
   "outputs": [
    {
     "name": "stderr",
     "output_type": "stream",
     "text": [
      "C:\\Users\\tobyw\\Miniconda3\\envs\\mne\\lib\\site-packages\\seaborn\\categorical.py:3666: UserWarning: The `factorplot` function has been renamed to `catplot`. The original name will be removed in a future release. Please update your code. Note that the default `kind` in `factorplot` (`'point'`) has changed `'strip'` in `catplot`.\n",
      "  warnings.warn(msg)\n"
     ]
    },
    {
     "data": {
      "text/plain": [
       "<matplotlib.lines.Line2D at 0x1c672fb0fa0>"
      ]
     },
     "execution_count": 18,
     "metadata": {},
     "output_type": "execute_result"
    },
    {
     "data": {
      "image/png": "[encoded data removed]",
      "text/plain": [
       "<Figure size 421.25x360 with 1 Axes>"
      ]
     },
     "metadata": {
      "needs_background": "light"
     },
     "output_type": "display_data"
    }
   ],
   "source": [
    "sns.factorplot('left_conspecifics_number', 'survival_value_left', hue='threat', data=data)\n",
    "plt.axhline(0, linestyle=':', color='gray')"
   ]
  },
  {
   "cell_type": "markdown",
   "metadata": {},
   "source": [
    "## Model including tendency to stick with current patch"
   ]
  },
  {
   "cell_type": "code",
   "execution_count": 19,
   "metadata": {},
   "outputs": [],
   "source": [
    "previous_choice = np.stack([1 - data['left_or_right_later_excluded'].shift(1).values, data['left_or_right_later_excluded'].shift(1).values])\n",
    "previous_choice[np.isnan(previous_choice)] = 0\n",
    "\n",
    "with pm.Model() as model_stickiness:\n",
    "\n",
    "    group_competitor_threat_weight_mean = pm.Normal('group_competitor_threat_weight_mean', 0, 1)\n",
    "    group_competitor_threat_weight_sd = pm.HalfNormal('group_competitor_threat_weight_sd', 1)\n",
    "    competitor_threat_weight_offset = pm.Normal('competitor_threat_weight_offset', 0, 5, shape=n_subs)\n",
    "    competitor_threat_weight = pm.Deterministic('competitor_threat_weight', group_competitor_threat_weight_mean + group_competitor_threat_weight_sd * competitor_threat_weight_offset)\n",
    "    \n",
    "    stickiness_mean = pm.Normal('stickiness_mean', 1, 1)\n",
    "    stickiness_sd = pm.HalfNormal('stickiness_sd', 1)\n",
    "    stickiness_offset = pm.Normal('stickiness_offset', 0, 1, shape=n_subs)\n",
    "    stickiness = pm.Deterministic('stickiness', group_competitor_threat_weight_mean + group_competitor_threat_weight_sd * competitor_threat_weight_offset)\n",
    "\n",
    "    temperature = pm.Gamma('temperature', 3, 0.5, shape=n_subs)\n",
    "    \n",
    "    v_left = data['mean_points_left'].values * 0.1 + data['p_caught_left'].values * competitor_threat_weight[subject_idx]\n",
    "    v_right = data['mean_points_right'].values * 0.1 + data['p_caught_right'].values * competitor_threat_weight[subject_idx]\n",
    "    \n",
    "    v_left = pm.Deterministic('survival_value_left', v_left)\n",
    "    v_right = pm.Deterministic('survival_value_right', v_right)\n",
    "       \n",
    "    vs = T.stack(v_left, v_right)\n",
    "\n",
    "    vs = vs + stickiness[subject_idx] * previous_choice\n",
    "    vs = pm.Deterministic('vs', vs)\n",
    "    \n",
    "    ps = (T.exp(vs / temperature[subject_idx])) / T.sum(T.exp(vs / temperature[subject_idx]), axis=0)\n",
    "        \n",
    "    pR = pm.Deterministic('pR', ps[1, :])\n",
    "    pR *= 0.5\n",
    "           \n",
    "    decision = pm.Bernoulli('likelihood', p=(pR[result_nan_mask]*.99) + 0.001, observed=data.loc[result_nan_mask, 'left_or_right_later_excluded'].astype(int))\n",
    "    prior_checks = pm.sample_prior_predictive(samples=50, random_seed=123)"
   ]
  },
  {
   "cell_type": "markdown",
   "metadata": {},
   "source": [
    "#### Fit model"
   ]
  },
  {
   "cell_type": "code",
   "execution_count": 20,
   "metadata": {},
   "outputs": [
    {
     "name": "stderr",
     "output_type": "stream",
     "text": [
      "Average Loss = 9,926.6: 100%|██████████████████████████████████████████████████| 30000/30000 [04:21<00:00, 114.59it/s]\n",
      "Finished [100%]: Average Loss = 9,926.6\n"
     ]
    }
   ],
   "source": [
    "with model_stickiness:\n",
    "    mean_field = pm.fit(method='advi', n=30000)\n",
    "    \n",
    "trace_stickiness = mean_field.sample(1000)"
   ]
  },
  {
   "cell_type": "code",
   "execution_count": 21,
   "metadata": {},
   "outputs": [
    {
     "name": "stderr",
     "output_type": "stream",
     "text": [
      "C:\\Users\\tobyw\\Miniconda3\\envs\\mne\\lib\\site-packages\\arviz\\data\\io_pymc3.py:87: FutureWarning: Using `from_pymc3` without the model will be deprecated in a future release. Not using the model will return less accurate and less useful results. Make sure you use the model argument or call from_pymc3 within a model context.\n",
      "  warnings.warn(\n"
     ]
    },
    {
     "data": {
      "text/plain": [
       "Computed from 1000 by 11137 log-likelihood matrix\n",
       "\n",
       "          Estimate       SE\n",
       "elpd_waic -9829.30    60.54\n",
       "p_waic       20.69        -"
      ]
     },
     "execution_count": 21,
     "metadata": {},
     "output_type": "execute_result"
    }
   ],
   "source": [
    "az.waic(trace_stickiness)"
   ]
  },
  {
   "cell_type": "code",
   "execution_count": 22,
   "metadata": {},
   "outputs": [
    {
     "data": {
      "text/plain": [
       "(array([3., 2., 3., 1., 2., 3., 1., 2., 1., 2.]),\n",
       " array([0.07736384, 0.36270791, 0.64805199, 0.93339606, 1.21874013,\n",
       "        1.50408421, 1.78942828, 2.07477236, 2.36011643, 2.64546051,\n",
       "        2.93080458]),\n",
       " <a list of 10 Patch objects>)"
      ]
     },
     "execution_count": 22,
     "metadata": {},
     "output_type": "execute_result"
    },
    {
     "data": {
      "image/png": "[encoded data removed]",
      "text/plain": [
       "<Figure size 432x288 with 1 Axes>"
      ]
     },
     "metadata": {
      "needs_background": "light"
     },
     "output_type": "display_data"
    }
   ],
   "source": [
    "plt.hist(trace_stickiness['stickiness'].mean(axis=0))"
   ]
  },
  {
   "cell_type": "markdown",
   "metadata": {},
   "source": [
    "## Model with learning\n",
    "\n",
    "Bayesian mean tracker (BMT) model for learning reward value"
   ]
  },
  {
   "cell_type": "markdown",
   "metadata": {},
   "source": [
    "### Learning model updates"
   ]
  },
  {
   "cell_type": "code",
   "execution_count": 23,
   "metadata": {},
   "outputs": [],
   "source": [
    "def bmt_update(outcome, n_competitors, trial_type, V, var, kGain, theta):\n",
    "        \n",
    "    sub_idx = T.arange(n_competitors.shape[0])\n",
    "    trial_type_selector = T.gt(trial_type, 0).astype('int16')\n",
    "\n",
    "    kGain = T.set_subtensor(kGain[n_competitors, trial_type_selector, sub_idx], var[n_competitors, trial_type_selector, sub_idx] / (var[n_competitors, trial_type_selector, sub_idx] + T.power(theta, 2)))  \n",
    "    \n",
    "    pe = outcome - V[n_competitors, trial_type_selector, sub_idx]\n",
    "    \n",
    "    Vnew = T.set_subtensor(V[n_competitors, trial_type_selector, sub_idx], V[n_competitors, trial_type_selector, sub_idx] + kGain[n_competitors, trial_type_selector, sub_idx] * pe)\n",
    "    var = T.set_subtensor(var[n_competitors, trial_type_selector, sub_idx], var[n_competitors, trial_type_selector, sub_idx] * (1 - kGain[n_competitors, trial_type_selector, sub_idx]))\n",
    "    \n",
    "    return Vnew, var, kGain, pe, V\n"
   ]
  },
  {
   "cell_type": "code",
   "execution_count": 24,
   "metadata": {},
   "outputs": [],
   "source": [
    "data['all_trial_index'] = np.nan\n",
    "for sub in data['subject_idx'].unique():\n",
    "    data.loc[data['subject_idx'] == sub, 'all_trial_index'] = np.arange(len(data[data['subject_idx'] == sub]))\n",
    "\n",
    "# Score on each trial\n",
    "trial_outcomes = data[['all_trial_index', 'points_collected', 'subject_idx']].pivot(index='all_trial_index', columns='subject_idx', values='points_collected').reset_index().iloc[:, 1:].values\n",
    "nan_mask = T.as_tensor_variable(trial_outcomes.T.flatten())\n",
    "trial_outcomes = np.vstack([np.zeros((1, n_subs)), trial_outcomes[:-1, :]])  # Add 0th trial\n",
    "trial_outcomes[np.isnan(trial_outcomes)] = 0\n",
    "# trial_outcomes *= 0.01\n",
    "\n",
    "# Number of competitors on each trial\n",
    "trial_competitors = data[['all_trial_index', 'comps_current_in_patch', 'subject_idx']].pivot(index='all_trial_index', columns='subject_idx', values='comps_current_in_patch').reset_index().iloc[:, 1:].values.astype(int) - 1\n",
    "trial_competitors = np.vstack([np.zeros((1, n_subs)), trial_competitors[:-1, :]])\n",
    "\n",
    "# Deal with nan - these won't used because the outcome variable will be NaN\n",
    "trial_competitors[trial_competitors < 0] = 0\n",
    "trial_competitors[trial_competitors > 5] = 0\n",
    "trial_competitors = trial_competitors.astype(int)\n",
    "\n",
    "# Threat level each trial\n",
    "trial_threat = data[['all_trial_index', 'threat', 'subject_idx']].pivot(index='all_trial_index', columns='subject_idx', values='threat').reset_index().iloc[:, 1:].values.astype(float)\n",
    "trial_threat = np.vstack([np.zeros((1, n_subs)), trial_threat[:-1, :]])\n",
    "\n",
    "# Whether or not caught on each trial\n",
    "trial_caught = data[['all_trial_index', 'shocks_gained', 'subject_idx']].pivot(index='all_trial_index', columns='subject_idx', values='shocks_gained').reset_index().iloc[:, 1:].values.astype(np.float64)\n",
    "trial_caught = np.vstack([np.zeros((1, n_subs)), trial_caught[:-1, :]])\n",
    "trial_caught[np.isnan(trial_caught)] = 0 # Remove NaN"
   ]
  },
  {
   "cell_type": "code",
   "execution_count": 25,
   "metadata": {},
   "outputs": [],
   "source": [
    "n_subs = len(data['subject'].unique())\n",
    "subject_idx = data['subject_idx'].astype(int)\n",
    "\n",
    "data['p_caught_left'] = .6 / (data['left_conspecifics_number'] + 1)\n",
    "data['p_caught_right'] = .6 / (data['right_conspecifics_number'] + 1)\n",
    "data.loc[data['threat'] == False, ['p_caught_left', 'p_caught_right']] = 0\n",
    "\n",
    "# Exclude trials where the later option was selected\n",
    "data['left_or_right_later_excluded'] = data['left_or_right']\n",
    "data.loc[data['now_or_later'], 'left_or_right_later_excluded'] = np.nan\n",
    "\n",
    "# Useful values\n",
    "left_conspecifics = T.as_tensor_variable((data['left_conspecifics_number'].astype(int) - 1).values)\n",
    "right_conspecifics = T.as_tensor_variable((data['right_conspecifics_number'].astype(int) - 1).values)\n",
    "\n",
    "trial_outcomes = T.as_tensor_variable(trial_outcomes)\n",
    "trial_competitors = T.as_tensor_variable(trial_competitors)\n",
    "trial_caught = T.as_tensor_variable(trial_caught)\n",
    "trial_threat = T.as_tensor_variable(trial_threat)\n",
    "\n",
    "nan_mask = T.as_tensor_variable(nan_mask)\n",
    "result_nan_mask = ~data['left_or_right_later_excluded'].isnull().values\n",
    "\n",
    "from scipy.spatial.distance import cdist\n",
    "cov = (1 - cdist(np.arange(6)[:, None], np.arange(6)[:, None]) / 5)\n",
    "\n",
    "with pm.Model() as bmt_model:\n",
    "    \n",
    "    # PARAMETERS #\n",
    "    \n",
    "    # Threat weight\n",
    "    group_competitor_threat_weight_mean = pm.Normal('group_competitor_threat_weight_mean', 0, 1)\n",
    "    group_competitor_threat_weight_sd = pm.HalfNormal('group_competitor_threat_weight_sd', 5)\n",
    "    competitor_threat_weight_offset = pm.Normal('competitor_threat_weight_offset', 0, 1, shape=n_subs)\n",
    "    competitor_threat_weight = pm.Deterministic('competitor_threat_weight', group_competitor_threat_weight_mean + group_competitor_threat_weight_sd * competitor_threat_weight_offset)\n",
    "\n",
    "    # Softmax temperature\n",
    "    temperature = pm.Gamma('temperature', 3, 1, shape=n_subs)\n",
    "\n",
    "    # BMT theta - fitting doesn't work if this is free, so we fix it to 1\n",
    "    theta = 1\n",
    "        \n",
    "    # Learning about reward\n",
    "    V_estimate = T.ones((6, 2, n_subs)) * (trial_outcomes.mean() * 0.1)  # Starting estimate equal to the mean of rewards\n",
    "    var_estimate = T.ones((6, 2, n_subs))\n",
    "    kGain_estimate = T.ones((6, 2, n_subs))\n",
    "    \n",
    "    #########################\n",
    "    # LEARNING ABOUT REWARD #\n",
    "    #########################\n",
    "    bmt_result, _ = theano.scan(fn=bmt_update,\n",
    "                                  sequences=[trial_outcomes * 0.1, trial_competitors, trial_threat],\n",
    "                                  outputs_info=[V_estimate, var_estimate, kGain_estimate, None, None],\n",
    "                                  non_sequences=[theta])\n",
    "\n",
    "    _, reward_var, _, _, V = bmt_result\n",
    "    \n",
    "    V = pm.Deterministic('V', V)\n",
    "\n",
    "    # Reshape outputs\n",
    "    V_reshaped = V.transpose(3, 0, 1, 2).reshape((V.shape[0] * V.shape[3], V.shape[1], V.shape[2]))\n",
    "    V_reshaped = V_reshaped[~T.isnan(nan_mask), ...]\n",
    "    V_reshaped = pm.Deterministic('V_reshaped', V_reshaped)\n",
    "        \n",
    "    trial_idx = T.arange(len(data))\n",
    "    trial_threat_selector = T.gt(trial_threat, 0).astype('int16').T.flatten()\n",
    "    trial_threat_selector = trial_threat_selector[~T.isnan(nan_mask)]\n",
    "    \n",
    "    v_left = V_reshaped[trial_idx, left_conspecifics, trial_threat_selector] + data['p_caught_left'].values * competitor_threat_weight[subject_idx]\n",
    "    v_right = V_reshaped[trial_idx, right_conspecifics, trial_threat_selector] + data['p_caught_right'].values * competitor_threat_weight[subject_idx]\n",
    "    \n",
    "    v_left = pm.Deterministic('survival_value_left', v_left)\n",
    "    v_right = pm.Deterministic('survival_value_right', v_right)\n",
    "    \n",
    "    vs = T.stack(v_left, v_right) \n",
    "    vs = pm.Deterministic('vs', vs)\n",
    "\n",
    "    ps = (T.exp(vs / temperature[subject_idx])) / T.sum(T.exp(vs / temperature[subject_idx]), axis=0)\n",
    "    pR = pm.Deterministic('pR', ps[1, :])\n",
    "    decision = pm.Bernoulli('likelihood', p=(pR[result_nan_mask]*.99) + 0.001, observed=data.loc[result_nan_mask, 'left_or_right_later_excluded'].astype(int))\n",
    "    prior_checks = pm.sample_prior_predictive(samples=100, random_seed=123)"
   ]
  },
  {
   "cell_type": "markdown",
   "metadata": {},
   "source": [
    "### An example of how learned value evolves over the course of the task for one subject"
   ]
  },
  {
   "cell_type": "code",
   "execution_count": 26,
   "metadata": {},
   "outputs": [
    {
     "data": {
      "image/png": "[encoded data removed]",
      "text/plain": [
       "<Figure size 1440x216 with 1 Axes>"
      ]
     },
     "metadata": {
      "needs_background": "light"
     },
     "output_type": "display_data"
    }
   ],
   "source": [
    "plt.figure(figsize=(20, 3))\n",
    "for i in range(6):\n",
    "    plt.plot(prior_checks['V'][:, i, 0, 0]);"
   ]
  },
  {
   "cell_type": "markdown",
   "metadata": {},
   "source": [
    "### Fit model"
   ]
  },
  {
   "cell_type": "code",
   "execution_count": 27,
   "metadata": {},
   "outputs": [
    {
     "name": "stderr",
     "output_type": "stream",
     "text": [
      "Average Loss = 6,421: 100%|███████████████████████████████████████████████████| 30000/30000 [9:27:33<00:00,  1.14s/it]\n",
      "Finished [100%]: Average Loss = 6,420.9\n"
     ]
    }
   ],
   "source": [
    "with bmt_model:\n",
    "    bmt_mean_field = pm.fit(method='advi', n=30000)\n",
    "    \n",
    "bmt_trace = bmt_mean_field.sample(2000)"
   ]
  },
  {
   "cell_type": "code",
   "execution_count": 28,
   "metadata": {},
   "outputs": [
    {
     "name": "stderr",
     "output_type": "stream",
     "text": [
      "C:\\Users\\tobyw\\Miniconda3\\envs\\mne\\lib\\site-packages\\arviz\\data\\io_pymc3.py:87: FutureWarning: Using `from_pymc3` without the model will be deprecated in a future release. Not using the model will return less accurate and less useful results. Make sure you use the model argument or call from_pymc3 within a model context.\n",
      "  warnings.warn(\n",
      "C:\\Users\\tobyw\\Miniconda3\\envs\\mne\\lib\\site-packages\\arviz\\stats\\stats.py:1425: UserWarning: For one or more samples the posterior variance of the log predictive densities exceeds 0.4. This could be indication of WAIC starting to fail. \n",
      "See http://arxiv.org/abs/1507.04544 for details\n",
      "  warnings.warn(\n"
     ]
    },
    {
     "data": {
      "text/plain": [
       "Computed from 2000 by 11137 log-likelihood matrix\n",
       "\n",
       "          Estimate       SE\n",
       "elpd_waic -6216.19    52.21\n",
       "p_waic       51.51        -\n",
       "\n",
       "There has been a warning during the calculation. Please check the results."
      ]
     },
     "execution_count": 28,
     "metadata": {},
     "output_type": "execute_result"
    }
   ],
   "source": [
    "az.waic(bmt_trace)"
   ]
  },
  {
   "cell_type": "code",
   "execution_count": 30,
   "metadata": {},
   "outputs": [
    {
     "name": "stderr",
     "output_type": "stream",
     "text": [
      "C:\\Users\\tobyw\\Miniconda3\\envs\\mne\\lib\\site-packages\\arviz\\stats\\stats.py:1425: UserWarning: For one or more samples the posterior variance of the log predictive densities exceeds 0.4. This could be indication of WAIC starting to fail. \n",
      "See http://arxiv.org/abs/1507.04544 for details\n",
      "  warnings.warn(\n",
      "C:\\Users\\tobyw\\Miniconda3\\envs\\mne\\lib\\site-packages\\arviz\\data\\io_pymc3.py:87: FutureWarning: Using `from_pymc3` without the model will be deprecated in a future release. Not using the model will return less accurate and less useful results. Make sure you use the model argument or call from_pymc3 within a model context.\n",
      "  warnings.warn(\n",
      "C:\\Users\\tobyw\\Miniconda3\\envs\\mne\\lib\\site-packages\\arviz\\stats\\stats.py:1425: UserWarning: For one or more samples the posterior variance of the log predictive densities exceeds 0.4. This could be indication of WAIC starting to fail. \n",
      "See http://arxiv.org/abs/1507.04544 for details\n",
      "  warnings.warn(\n",
      "C:\\Users\\tobyw\\Miniconda3\\envs\\mne\\lib\\site-packages\\arviz\\data\\io_pymc3.py:87: FutureWarning: Using `from_pymc3` without the model will be deprecated in a future release. Not using the model will return less accurate and less useful results. Make sure you use the model argument or call from_pymc3 within a model context.\n",
      "  warnings.warn(\n"
     ]
    }
   ],
   "source": [
    "comp = az.compare({'Learning': bmt_trace, 'No learning': trace, 'Choice stickiness': trace_stickiness}, ic='WAIC')"
   ]
  },
  {
   "cell_type": "code",
   "execution_count": 31,
   "metadata": {},
   "outputs": [
    {
     "data": {
      "text/html": [
       "<div>\n",
       "<style scoped>\n",
       "    .dataframe tbody tr th:only-of-type {\n",
       "        vertical-align: middle;\n",
       "    }\n",
       "\n",
       "    .dataframe tbody tr th {\n",
       "        vertical-align: top;\n",
       "    }\n",
       "\n",
       "    .dataframe thead th {\n",
       "        text-align: right;\n",
       "    }\n",
       "</style>\n",
       "<table border=\"1\" class=\"dataframe\">\n",
       "  <thead>\n",
       "    <tr style=\"text-align: right;\">\n",
       "      <th></th>\n",
       "      <th>rank</th>\n",
       "      <th>waic</th>\n",
       "      <th>p_waic</th>\n",
       "      <th>d_waic</th>\n",
       "      <th>weight</th>\n",
       "      <th>se</th>\n",
       "      <th>dse</th>\n",
       "      <th>warning</th>\n",
       "      <th>waic_scale</th>\n",
       "    </tr>\n",
       "  </thead>\n",
       "  <tbody>\n",
       "    <tr>\n",
       "      <th>No learning</th>\n",
       "      <td>0</td>\n",
       "      <td>-6181.56</td>\n",
       "      <td>78.701</td>\n",
       "      <td>0</td>\n",
       "      <td>NaN</td>\n",
       "      <td>53.4938</td>\n",
       "      <td>0</td>\n",
       "      <td>True</td>\n",
       "      <td>log</td>\n",
       "    </tr>\n",
       "    <tr>\n",
       "      <th>Learning</th>\n",
       "      <td>1</td>\n",
       "      <td>-6216.19</td>\n",
       "      <td>51.512</td>\n",
       "      <td>34.6283</td>\n",
       "      <td>NaN</td>\n",
       "      <td>54.4868</td>\n",
       "      <td>32.5677</td>\n",
       "      <td>True</td>\n",
       "      <td>log</td>\n",
       "    </tr>\n",
       "    <tr>\n",
       "      <th>Choice stickiness</th>\n",
       "      <td>2</td>\n",
       "      <td>-9829.3</td>\n",
       "      <td>20.6946</td>\n",
       "      <td>3647.74</td>\n",
       "      <td>0</td>\n",
       "      <td>58.9689</td>\n",
       "      <td>76.7909</td>\n",
       "      <td>False</td>\n",
       "      <td>log</td>\n",
       "    </tr>\n",
       "  </tbody>\n",
       "</table>\n",
       "</div>"
      ],
      "text/plain": [
       "                  rank     waic   p_waic   d_waic weight       se      dse  \\\n",
       "No learning          0 -6181.56   78.701        0    NaN  53.4938        0   \n",
       "Learning             1 -6216.19   51.512  34.6283    NaN  54.4868  32.5677   \n",
       "Choice stickiness    2  -9829.3  20.6946  3647.74      0  58.9689  76.7909   \n",
       "\n",
       "                  warning waic_scale  \n",
       "No learning          True        log  \n",
       "Learning             True        log  \n",
       "Choice stickiness   False        log  "
      ]
     },
     "execution_count": 31,
     "metadata": {},
     "output_type": "execute_result"
    }
   ],
   "source": [
    "comp"
   ]
  },
  {
   "cell_type": "code",
   "execution_count": 32,
   "metadata": {},
   "outputs": [
    {
     "data": {
      "image/png": "[encoded data removed]",
      "text/plain": [
       "<Figure size 432x216 with 1 Axes>"
      ]
     },
     "metadata": {
      "needs_background": "light"
     },
     "output_type": "display_data"
    }
   ],
   "source": [
    "az.plot_compare(comp, insample_dev=False);"
   ]
  },
  {
   "cell_type": "code",
   "execution_count": 33,
   "metadata": {},
   "outputs": [],
   "source": [
    "data['survival_value_diff_learning'] = bmt_trace['survival_value_left'].mean(axis=0) - bmt_trace['survival_value_right'].mean(axis=0)\n",
    "data['survival_value_left_learning'] = bmt_trace['survival_value_left'].mean(axis=0)\n",
    "data['survival_value_right_learning'] = bmt_trace['survival_value_right'].mean(axis=0)"
   ]
  },
  {
   "cell_type": "code",
   "execution_count": 34,
   "metadata": {},
   "outputs": [],
   "source": [
    "for sub in data['subject'].unique():\n",
    "    data.loc[data['subject'] == sub, 'survival_value_left_learning_Z'] = zscore(data.loc[data['subject'] == sub, 'survival_value_left_learning'])\n",
    "    data.loc[data['subject'] == sub, 'survival_value_right_learning_Z'] = zscore(data.loc[data['subject'] == sub, 'survival_value_right_learning'])\n",
    "    data.loc[data['subject'] == sub, 'survival_value_diff_learning_Z'] = zscore(data.loc[data['subject'] == sub, 'survival_value_left_learning'] - data.loc[data['subject'] == sub, 'survival_value_right_learning'])"
   ]
  },
  {
   "cell_type": "markdown",
   "metadata": {},
   "source": [
    "### Check that choices are different for high/low SV"
   ]
  },
  {
   "cell_type": "code",
   "execution_count": 35,
   "metadata": {},
   "outputs": [
    {
     "name": "stderr",
     "output_type": "stream",
     "text": [
      "C:\\Users\\tobyw\\Miniconda3\\envs\\mne\\lib\\site-packages\\seaborn\\categorical.py:3666: UserWarning: The `factorplot` function has been renamed to `catplot`. The original name will be removed in a future release. Please update your code. Note that the default `kind` in `factorplot` (`'point'`) has changed `'strip'` in `catplot`.\n",
      "  warnings.warn(msg)\n"
     ]
    },
    {
     "data": {
      "text/plain": [
       "<seaborn.axisgrid.FacetGrid at 0x1c65145df40>"
      ]
     },
     "execution_count": 35,
     "metadata": {},
     "output_type": "execute_result"
    },
    {
     "data": {
      "image/png": "[encoded data removed]",
      "text/plain": [
       "<Figure size 360x360 with 1 Axes>"
      ]
     },
     "metadata": {
      "needs_background": "light"
     },
     "output_type": "display_data"
    }
   ],
   "source": [
    "sns.factorplot('left_or_right', 'survival_value_diff_learning_Z', data=data[(data['subject_idx'] == 0) & (data['threat'] == 1)])"
   ]
  },
  {
   "cell_type": "code",
   "execution_count": 36,
   "metadata": {},
   "outputs": [
    {
     "data": {
      "text/plain": [
       "(array([1., 2., 5., 5., 5., 0., 1., 0., 0., 1.]),\n",
       " array([-304.88960937, -244.22924459, -183.56887981, -122.90851503,\n",
       "         -62.24815025,   -1.58778547,   59.0725793 ,  119.73294408,\n",
       "         180.39330886,  241.05367364,  301.71403842]),\n",
       " <a list of 10 Patch objects>)"
      ]
     },
     "execution_count": 36,
     "metadata": {},
     "output_type": "execute_result"
    },
    {
     "data": {
      "image/png": "[encoded data removed]",
      "text/plain": [
       "<Figure size 432x288 with 1 Axes>"
      ]
     },
     "metadata": {
      "needs_background": "light"
     },
     "output_type": "display_data"
    }
   ],
   "source": [
    "plt.hist(bmt_trace['competitor_threat_weight'].mean(axis=0))"
   ]
  },
  {
   "cell_type": "code",
   "execution_count": 37,
   "metadata": {},
   "outputs": [
    {
     "name": "stderr",
     "output_type": "stream",
     "text": [
      "C:\\Users\\tobyw\\Miniconda3\\envs\\mne\\lib\\site-packages\\seaborn\\categorical.py:3666: UserWarning: The `factorplot` function has been renamed to `catplot`. The original name will be removed in a future release. Please update your code. Note that the default `kind` in `factorplot` (`'point'`) has changed `'strip'` in `catplot`.\n",
      "  warnings.warn(msg)\n"
     ]
    },
    {
     "data": {
      "text/plain": [
       "<matplotlib.lines.Line2D at 0x1c60bb64c70>"
      ]
     },
     "execution_count": 37,
     "metadata": {},
     "output_type": "execute_result"
    },
    {
     "data": {
      "image/png": "[encoded data removed]",
      "text/plain": [
       "<Figure size 421.25x360 with 1 Axes>"
      ]
     },
     "metadata": {
      "needs_background": "light"
     },
     "output_type": "display_data"
    }
   ],
   "source": [
    "sns.factorplot('left_conspecifics_number', 'survival_value_left_learning', hue='threat', data=data)\n",
    "plt.axhline(0, linestyle=':', color='gray')"
   ]
  },
  {
   "cell_type": "markdown",
   "metadata": {},
   "source": [
    "### Save data"
   ]
  },
  {
   "cell_type": "code",
   "execution_count": 38,
   "metadata": {},
   "outputs": [],
   "source": [
    "data.to_csv('../data/decision_data_REVISED.csv', index=False)"
   ]
  },
  {
   "cell_type": "code",
   "execution_count": 39,
   "metadata": {},
   "outputs": [],
   "source": [
    "np.save('../data/threat_param_values_REVISED', trace['competitor_threat_weight'].mean(axis=0))"
   ]
  },
  {
   "cell_type": "code",
   "execution_count": null,
   "metadata": {},
   "outputs": [],
   "source": []
  }
 ],
 "metadata": {
  "kernelspec": {
   "display_name": "mne",
   "language": "python",
   "name": "mne"
  },
  "language_info": {
   "codemirror_mode": {
    "name": "ipython",
    "version": 3
   },
   "file_extension": ".py",
   "mimetype": "text/x-python",
   "name": "python",
   "nbconvert_exporter": "python",
   "pygments_lexer": "ipython3",
   "version": "3.8.2"
  }
 },
 "nbformat": 4,
 "nbformat_minor": 4
}
